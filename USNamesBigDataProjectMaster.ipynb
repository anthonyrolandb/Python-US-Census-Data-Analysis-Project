{
 "cells": [
  {
   "cell_type": "code",
   "execution_count": 3,
   "metadata": {},
   "outputs": [
    {
     "data": {
      "application/vnd.jupyter.widget-view+json": {
       "model_id": "7af80da60ab0420183b449c2e0923b48",
       "version_major": 2,
       "version_minor": 0
      },
      "text/plain": [
       "interactive(children=(IntSlider(value=30, description='N', max=250000, min=25), Button(description='Run Intera…"
      ]
     },
     "metadata": {},
     "output_type": "display_data"
    },
    {
     "name": "stdout",
     "output_type": "stream",
     "text": [
      "\n",
      "\n",
      "\n"
     ]
    },
    {
     "data": {
      "text/plain": [
       "'\\nfor key, value in newCounts.items(): \\n    print(key, value)\\n'"
      ]
     },
     "execution_count": 3,
     "metadata": {},
     "output_type": "execute_result"
    }
   ],
   "source": [
    "import plotly.plotly as py\n",
    "from plotly.grid_objs import Grid, Column\n",
    "from plotly.tools import FigureFactory as FF \n",
    "import plotly.graph_objs as go\n",
    "import numpy as np \n",
    "import matplotlib.pyplot as plt \n",
    "import scipy as sp\n",
    "import pandas as pd\n",
    "import time\n",
    "from collections import Counter\n",
    "import ipywidgets as widgets\n",
    "from ipywidgets import interact, interactive, fixed, interact_manual\n",
    "from SampleNameCensus import SampleNameCensus \n",
    "from PopulationNameCensus import PopulationNameCensus\n",
    " \n",
    "\n",
    "\"\"\"\n",
    "    The master file, where one can run the data visualization for US SSA census data on the most common \n",
    "    names of the last century. The visual displays the law of large numbers in action. \n",
    "\n",
    "\n",
    "\"\"\"\n",
    "\n",
    "def F(N):\n",
    "    numNamesGraphed = 10\n",
    "    maxN = 250000\n",
    "    #name_counts = Counter(mySample.sampleOfNames)\n",
    "    #topNameCounts = name_counts.most_common(numNamesGraphed)\n",
    "    #mySample.reSampleData(N) \n",
    "    mySample = SampleNameCensus ('U', N)\n",
    "    name_counts = Counter(mySample.sampleOfNames)\n",
    "    topNameCounts = name_counts.most_common(numNamesGraphed)\n",
    "    df = pd.DataFrame.from_records(topNameCounts)\n",
    "        \n",
    "    print('\\nList of top %d names\\n' %numNamesGraphed)\n",
    "\n",
    "    for i in range(0,numNamesGraphed):\n",
    "        if i == 0: \n",
    "            print ('Most common name is: ',topNameCounts[i][0],'\\n')\n",
    "        print( topNameCounts[i])\n",
    "\n",
    "    df.plot(kind='bar', figsize = (10,10), use_index = True, x = df[0], legend = False) #, xticks=df.column[0] \n",
    "    plt.show()        \n",
    "    \n",
    "\n",
    "interact_manual(F, N = widge ts.IntSlider(min = 25,max = 250000,step=1,value=30))\n",
    "    \n",
    "#plt.show()\n",
    "\n",
    "print ('\\n\\n')\n",
    "#print (df)\n",
    "\n",
    "\"\"\"\n",
    "name_counts = Counter(mySample.sampleOfNames)\n",
    "df = pandas.DataFrame.from_dict(name_counts, orient = 'index')\n",
    "df.plot(kind='bar')\n",
    "\"\"\"\n",
    "\n",
    "\n",
    "\n",
    "\"\"\"\n",
    "for key, value in newCounts.items(): \n",
    "    print(key, value)\n",
    "\"\"\"\n",
    "\n",
    " #namesAsTicks = [a[0] for a in newCounts]\n",
    "#interact_manual(F, N = widgets.IntSlider(min = mySample.minSampleSize,max = len(mySample.sampleOfNames),step=1,value=30))\n",
    "           \n",
    "       \n",
    "       \n",
    "       \n"
   ]
  },
  {
   "cell_type": "code",
   "execution_count": 36,
   "metadata": {},
   "outputs": [
    {
     "data": {
      "application/vnd.jupyter.widget-view+json": {
       "model_id": "d605432388b849ef9f2e4edb8cfb6017",
       "version_major": 2,
       "version_minor": 0
      },
      "text/plain": [
       "HBox(children=(Play(value=25, description='Press play', max=100000, step=100), IntSlider(value=25, max=100000,…"
      ]
     },
     "metadata": {},
     "output_type": "display_data"
    }
   ],
   "source": [
    "import ipywidgets as widgets\n",
    "\n",
    "play = widgets.Play(\n",
    "    #interval=10,\n",
    "    value=25,\n",
    "    min=0,\n",
    "    max=100000,\n",
    "    step=100,\n",
    "    description=\"Press play\",\n",
    "    disabled=False\n",
    "    )\n",
    "slider = widgets.IntSlider(min = 25, max = 100000)\n",
    "widgets.jslink((play, 'value'), (slider, 'value'))\n",
    "widgets.HBox([play, slider])\n",
    "  "
   ]
  },
  {
   "cell_type": "code",
   "execution_count": 47,
   "metadata": {},
   "outputs": [
    {
     "data": {
      "application/vnd.jupyter.widget-view+json": {
       "model_id": "341b955a73c54c379e00118d85c4d106",
       "version_major": 2,
       "version_minor": 0
      },
      "text/plain": [
       "HBox(children=(Play(value=30, description='Press play', max=100000, step=100), FloatLogSlider(value=10.0, max=…"
      ]
     },
     "metadata": {},
     "output_type": "display_data"
    }
   ],
   "source": [
    "import ipywidgets as widgets\n",
    "play = widgets.Play(\n",
    "    #interval=10,\n",
    "    value=30,\n",
    "    base = 10,\n",
    "    min=0,\n",
    "    max=100000,\n",
    "    step=100,\n",
    "    description=\"Press play\",\n",
    "    disabled=False\n",
    ")\n",
    "\"\"\"\n",
    "slider = widgets.IntSlider(\n",
    "    value=10,\n",
    "    min=25,\n",
    "    max=250000,\n",
    "    step=100,\n",
    "    continuous_update=True\n",
    ")\n",
    "\"\"\"\n",
    "#\"\"\"\n",
    "slider = widgets.FloatLogSlider(\n",
    "    value=10,\n",
    "    base = 10,\n",
    "    min=0,\n",
    "    max=5,\n",
    "    step=.02,\n",
    "    continuous_update=True\n",
    ")\n",
    "#\"\"\"\n",
    "#slider = widgets.IntSlider(max = 10000)\n",
    "widgets.jslink((play, 'value'), (slider, 'value'))\n",
    "widgets.HBox([play, slider])"
   ]
  },
  {
   "cell_type": "code",
   "execution_count": null,
   "metadata": {
    "collapsed": true
   },
   "outputs": [],
   "source": []
  }
 ],
 "metadata": {
  "kernelspec": {
   "display_name": "Python 3",
   "language": "python",
   "name": "python3"
  },
  "language_info": {
   "codemirror_mode": {
    "name": "ipython",
    "version": 3
   },
   "file_extension": ".py",
   "mimetype": "text/x-python",
   "name": "python",
   "nbconvert_exporter": "python",
   "pygments_lexer": "ipython3",
   "version": "3.6.3"
  }
 },
 "nbformat": 4,
 "nbformat_minor": 2
}
